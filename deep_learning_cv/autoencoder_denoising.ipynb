{
  "nbformat": 4,
  "nbformat_minor": 0,
  "metadata": {
    "colab": {
      "name": "autoencoder denoising",
      "provenance": [],
      "authorship_tag": "ABX9TyOBLnOAkBMV6MUrOSbfWrFI",
      "include_colab_link": true
    },
    "kernelspec": {
      "name": "python3",
      "display_name": "Python 3"
    },
    "accelerator": "GPU"
  },
  "cells": [
    {
      "cell_type": "markdown",
      "metadata": {
        "id": "view-in-github",
        "colab_type": "text"
      },
      "source": [
        "<a href=\"https://colab.research.google.com/github/sandrofab/Covid-X-ray/blob/master/deep_learning_cv/autoencoder_denoising.ipynb\" target=\"_parent\"><img src=\"https://colab.research.google.com/assets/colab-badge.svg\" alt=\"Open In Colab\"/></a>"
      ]
    },
    {
      "cell_type": "code",
      "metadata": {
        "id": "RZ06t3b8A6Nj"
      },
      "source": [
        "from keras.datasets import mnist\r\n",
        "import numpy as np\r\n",
        "import cv2\r\n",
        "import matplotlib.pyplot as plt\r\n",
        "from google.colab.patches import cv2_imshow\r\n",
        "import keras\r\n",
        "from keras import layers\r\n",
        "\r\n",
        "(x_train, _), (x_test, _) = mnist.load_data()\r\n",
        "\r\n",
        "x_train = x_train.astype('float32') / 255.\r\n",
        "x_test = x_test.astype('float32') / 255.\r\n",
        "x_train = np.reshape(x_train, (len(x_train), 28, 28, 1))\r\n",
        "x_test = np.reshape(x_test, (len(x_test), 28, 28, 1))\r\n",
        "\r\n",
        "#aggiunta di noise\r\n",
        "noise_factor = 0.5\r\n",
        "x_train_noisy = x_train + noise_factor * np.random.normal(loc=0.0, scale=1.0, size=x_train.shape) \r\n",
        "x_test_noisy = x_test + noise_factor * np.random.normal(loc=0.0, scale=1.0, size=x_test.shape) \r\n",
        "\r\n",
        "x_train_noisy = np.clip(x_train_noisy, 0., 1.)\r\n",
        "x_test_noisy = np.clip(x_test_noisy, 0., 1.)"
      ],
      "execution_count": null,
      "outputs": []
    },
    {
      "cell_type": "code",
      "metadata": {
        "colab": {
          "base_uri": "https://localhost:8080/"
        },
        "id": "EcPp8L5kBGQc",
        "outputId": "02c2516d-7264-4640-b531-0e3072d8ca9a"
      },
      "source": [
        "x_train[0].shape"
      ],
      "execution_count": null,
      "outputs": [
        {
          "output_type": "execute_result",
          "data": {
            "text/plain": [
              "(28, 28, 1)"
            ]
          },
          "metadata": {
            "tags": []
          },
          "execution_count": 12
        }
      ]
    },
    {
      "cell_type": "code",
      "metadata": {
        "colab": {
          "base_uri": "https://localhost:8080/",
          "height": 45
        },
        "id": "a2y_cIJ2CxJt",
        "outputId": "255e8266-fab8-4ae7-f9f9-e6434eb03a72"
      },
      "source": [
        "cv2_imshow(x_train_noisy[0]*255)"
      ],
      "execution_count": null,
      "outputs": [
        {
          "output_type": "display_data",
          "data": {
            "image/png": "[encoded data removed]",
            "text/plain": [
              "<PIL.Image.Image image mode=RGB size=28x28 at 0x7F64E65A6630>"
            ]
          },
          "metadata": {
            "tags": []
          }
        }
      ]
    },
    {
      "cell_type": "code",
      "metadata": {
        "id": "ZTdjWXsIDZwx"
      },
      "source": [
        "#plot di alcuni dati con rumore\r\n",
        "n = 10\r\n",
        "plt.figure(figsize=(20, 2))\r\n",
        "for i in range(1, n + 1):\r\n",
        "    ax = plt.subplot(1, n, i)\r\n",
        "    plt.imshow(x_test_noisy[i].reshape(28, 28))\r\n",
        "    plt.gray()\r\n",
        "    ax.get_xaxis().set_visible(False)\r\n",
        "    ax.get_yaxis().set_visible(False)\r\n",
        "plt.show()"
      ],
      "execution_count": null,
      "outputs": []
    },
    {
      "cell_type": "code",
      "metadata": {
        "id": "cx3kg8aqD4D7"
      },
      "source": [
        "#moedello autoencoder\r\n",
        "input_img = keras.Input(shape=(28, 28, 1))\r\n",
        "\r\n",
        "x = layers.Conv2D(32, (3, 3), activation='relu', padding='same')(input_img)\r\n",
        "x = layers.MaxPooling2D((2, 2), padding='same')(x)\r\n",
        "x = layers.Conv2D(32, (3, 3), activation='relu', padding='same')(x)\r\n",
        "encoded = layers.MaxPooling2D((2, 2), padding='same')(x)\r\n",
        "\r\n",
        "# At this point the representation is (7, 7, 32)\r\n",
        "\r\n",
        "x = layers.Conv2D(32, (3, 3), activation='relu', padding='same')(encoded)\r\n",
        "x = layers.UpSampling2D((2, 2))(x)\r\n",
        "x = layers.Conv2D(32, (3, 3), activation='relu', padding='same')(x)\r\n",
        "x = layers.UpSampling2D((2, 2))(x)\r\n",
        "decoded = layers.Conv2D(1, (3, 3), activation='sigmoid', padding='same')(x)\r\n",
        "\r\n",
        "autoencoder = keras.Model(input_img, decoded)\r\n",
        "autoencoder.compile(optimizer='adam', loss='binary_crossentropy')"
      ],
      "execution_count": null,
      "outputs": []
    },
    {
      "cell_type": "code",
      "metadata": {
        "id": "yMZw8ntfEjCg"
      },
      "source": [
        "from keras.callbacks import TensorBoard\r\n"
      ],
      "execution_count": null,
      "outputs": []
    },
    {
      "cell_type": "code",
      "metadata": {
        "colab": {
          "base_uri": "https://localhost:8080/"
        },
        "id": "gyWnn_q0EHyB",
        "outputId": "0b6e6e49-b2e7-4fa5-fa71-5b304dcf93c1"
      },
      "source": [
        "autoencoder.fit(x_train_noisy, x_train,\r\n",
        "                epochs=100,\r\n",
        "                batch_size=128,\r\n",
        "                shuffle=True,\r\n",
        "                validation_data=(x_test_noisy, x_test),\r\n",
        "                callbacks=[TensorBoard(log_dir='/tmp/tb', histogram_freq=0, write_graph=False)])"
      ],
      "execution_count": null,
      "outputs": [
        {
          "output_type": "stream",
          "text": [
            "Epoch 1/100\n",
            "469/469 [==============================] - 4s 7ms/step - loss: 0.2530 - val_loss: 0.1168\n",
            "Epoch 2/100\n",
            "469/469 [==============================] - 3s 5ms/step - loss: 0.1158 - val_loss: 0.1098\n",
            "Epoch 3/100\n",
            "469/469 [==============================] - 3s 5ms/step - loss: 0.1096 - val_loss: 0.1059\n",
            "Epoch 4/100\n",
            "469/469 [==============================] - 3s 5ms/step - loss: 0.1060 - val_loss: 0.1034\n",
            "Epoch 5/100\n",
            "469/469 [==============================] - 3s 5ms/step - loss: 0.1038 - val_loss: 0.1015\n",
            "Epoch 6/100\n",
            "469/469 [==============================] - 3s 5ms/step - loss: 0.1022 - val_loss: 0.1004\n",
            "Epoch 7/100\n",
            "469/469 [==============================] - 3s 5ms/step - loss: 0.1009 - val_loss: 0.1000\n",
            "Epoch 8/100\n",
            "469/469 [==============================] - 3s 5ms/step - loss: 0.1002 - val_loss: 0.0992\n",
            "Epoch 9/100\n",
            "469/469 [==============================] - 3s 5ms/step - loss: 0.0994 - val_loss: 0.0984\n",
            "Epoch 10/100\n",
            "469/469 [==============================] - 3s 5ms/step - loss: 0.0987 - val_loss: 0.0976\n",
            "Epoch 11/100\n",
            "469/469 [==============================] - 3s 5ms/step - loss: 0.0982 - val_loss: 0.0972\n",
            "Epoch 12/100\n",
            "469/469 [==============================] - 3s 5ms/step - loss: 0.0978 - val_loss: 0.0969\n",
            "Epoch 13/100\n",
            "469/469 [==============================] - 3s 6ms/step - loss: 0.0973 - val_loss: 0.0973\n",
            "Epoch 14/100\n",
            "469/469 [==============================] - 3s 5ms/step - loss: 0.0970 - val_loss: 0.0965\n",
            "Epoch 15/100\n",
            "469/469 [==============================] - 3s 5ms/step - loss: 0.0970 - val_loss: 0.0962\n",
            "Epoch 16/100\n",
            "469/469 [==============================] - 3s 5ms/step - loss: 0.0967 - val_loss: 0.0960\n",
            "Epoch 17/100\n",
            "469/469 [==============================] - 3s 5ms/step - loss: 0.0961 - val_loss: 0.0959\n",
            "Epoch 18/100\n",
            "469/469 [==============================] - 3s 5ms/step - loss: 0.0961 - val_loss: 0.0957\n",
            "Epoch 19/100\n",
            "469/469 [==============================] - 3s 5ms/step - loss: 0.0957 - val_loss: 0.0954\n",
            "Epoch 20/100\n",
            "469/469 [==============================] - 3s 5ms/step - loss: 0.0956 - val_loss: 0.0955\n",
            "Epoch 21/100\n",
            "469/469 [==============================] - 3s 5ms/step - loss: 0.0956 - val_loss: 0.0951\n",
            "Epoch 22/100\n",
            "469/469 [==============================] - 3s 5ms/step - loss: 0.0955 - val_loss: 0.0952\n",
            "Epoch 23/100\n",
            "469/469 [==============================] - 3s 5ms/step - loss: 0.0954 - val_loss: 0.0950\n",
            "Epoch 24/100\n",
            "469/469 [==============================] - 3s 6ms/step - loss: 0.0953 - val_loss: 0.0950\n",
            "Epoch 25/100\n",
            "469/469 [==============================] - 3s 6ms/step - loss: 0.0951 - val_loss: 0.0950\n",
            "Epoch 26/100\n",
            "469/469 [==============================] - 3s 6ms/step - loss: 0.0950 - val_loss: 0.0948\n",
            "Epoch 27/100\n",
            "469/469 [==============================] - 3s 6ms/step - loss: 0.0950 - val_loss: 0.0947\n",
            "Epoch 28/100\n",
            "469/469 [==============================] - 3s 5ms/step - loss: 0.0948 - val_loss: 0.0946\n",
            "Epoch 29/100\n",
            "469/469 [==============================] - 3s 6ms/step - loss: 0.0947 - val_loss: 0.0948\n",
            "Epoch 30/100\n",
            "469/469 [==============================] - 3s 5ms/step - loss: 0.0947 - val_loss: 0.0944\n",
            "Epoch 31/100\n",
            "469/469 [==============================] - 3s 5ms/step - loss: 0.0948 - val_loss: 0.0943\n",
            "Epoch 32/100\n",
            "469/469 [==============================] - 3s 5ms/step - loss: 0.0946 - val_loss: 0.0943\n",
            "Epoch 33/100\n",
            "469/469 [==============================] - 3s 5ms/step - loss: 0.0947 - val_loss: 0.0942\n",
            "Epoch 34/100\n",
            "469/469 [==============================] - 3s 5ms/step - loss: 0.0945 - val_loss: 0.0943\n",
            "Epoch 35/100\n",
            "469/469 [==============================] - 3s 5ms/step - loss: 0.0946 - val_loss: 0.0942\n",
            "Epoch 36/100\n",
            "469/469 [==============================] - 3s 5ms/step - loss: 0.0946 - val_loss: 0.0942\n",
            "Epoch 37/100\n",
            "469/469 [==============================] - 3s 5ms/step - loss: 0.0943 - val_loss: 0.0943\n",
            "Epoch 38/100\n",
            "469/469 [==============================] - 3s 5ms/step - loss: 0.0942 - val_loss: 0.0941\n",
            "Epoch 39/100\n",
            "469/469 [==============================] - 3s 5ms/step - loss: 0.0941 - val_loss: 0.0941\n",
            "Epoch 40/100\n",
            "469/469 [==============================] - 3s 5ms/step - loss: 0.0941 - val_loss: 0.0948\n",
            "Epoch 41/100\n",
            "469/469 [==============================] - 3s 5ms/step - loss: 0.0944 - val_loss: 0.0941\n",
            "Epoch 42/100\n",
            "469/469 [==============================] - 3s 5ms/step - loss: 0.0943 - val_loss: 0.0941\n",
            "Epoch 43/100\n",
            "469/469 [==============================] - 3s 5ms/step - loss: 0.0942 - val_loss: 0.0940\n",
            "Epoch 44/100\n",
            "469/469 [==============================] - 3s 5ms/step - loss: 0.0942 - val_loss: 0.0942\n",
            "Epoch 45/100\n",
            "469/469 [==============================] - 3s 5ms/step - loss: 0.0940 - val_loss: 0.0938\n",
            "Epoch 46/100\n",
            "469/469 [==============================] - 3s 5ms/step - loss: 0.0940 - val_loss: 0.0939\n",
            "Epoch 47/100\n",
            "469/469 [==============================] - 3s 5ms/step - loss: 0.0938 - val_loss: 0.0940\n",
            "Epoch 48/100\n",
            "469/469 [==============================] - 3s 5ms/step - loss: 0.0940 - val_loss: 0.0940\n",
            "Epoch 49/100\n",
            "469/469 [==============================] - 3s 5ms/step - loss: 0.0939 - val_loss: 0.0942\n",
            "Epoch 50/100\n",
            "469/469 [==============================] - 3s 5ms/step - loss: 0.0939 - val_loss: 0.0939\n",
            "Epoch 51/100\n",
            "469/469 [==============================] - 3s 5ms/step - loss: 0.0939 - val_loss: 0.0938\n",
            "Epoch 52/100\n",
            "469/469 [==============================] - 3s 5ms/step - loss: 0.0938 - val_loss: 0.0944\n",
            "Epoch 53/100\n",
            "469/469 [==============================] - 3s 5ms/step - loss: 0.0939 - val_loss: 0.0938\n",
            "Epoch 54/100\n",
            "469/469 [==============================] - 3s 5ms/step - loss: 0.0938 - val_loss: 0.0940\n",
            "Epoch 55/100\n",
            "469/469 [==============================] - 3s 5ms/step - loss: 0.0939 - val_loss: 0.0938\n",
            "Epoch 56/100\n",
            "469/469 [==============================] - 3s 5ms/step - loss: 0.0937 - val_loss: 0.0943\n",
            "Epoch 57/100\n",
            "469/469 [==============================] - 3s 5ms/step - loss: 0.0938 - val_loss: 0.0938\n",
            "Epoch 58/100\n",
            "469/469 [==============================] - 3s 5ms/step - loss: 0.0936 - val_loss: 0.0938\n",
            "Epoch 59/100\n",
            "469/469 [==============================] - 3s 5ms/step - loss: 0.0938 - val_loss: 0.0937\n",
            "Epoch 60/100\n",
            "469/469 [==============================] - 3s 5ms/step - loss: 0.0936 - val_loss: 0.0937\n",
            "Epoch 61/100\n",
            "469/469 [==============================] - 3s 5ms/step - loss: 0.0935 - val_loss: 0.0939\n",
            "Epoch 62/100\n",
            "469/469 [==============================] - 3s 5ms/step - loss: 0.0936 - val_loss: 0.0937\n",
            "Epoch 63/100\n",
            "469/469 [==============================] - 3s 5ms/step - loss: 0.0937 - val_loss: 0.0936\n",
            "Epoch 64/100\n",
            "469/469 [==============================] - 3s 5ms/step - loss: 0.0935 - val_loss: 0.0937\n",
            "Epoch 65/100\n",
            "469/469 [==============================] - 3s 5ms/step - loss: 0.0937 - val_loss: 0.0938\n",
            "Epoch 66/100\n",
            "469/469 [==============================] - 3s 5ms/step - loss: 0.0937 - val_loss: 0.0936\n",
            "Epoch 67/100\n",
            "469/469 [==============================] - 3s 5ms/step - loss: 0.0935 - val_loss: 0.0935\n",
            "Epoch 68/100\n",
            "469/469 [==============================] - 3s 5ms/step - loss: 0.0935 - val_loss: 0.0934\n",
            "Epoch 69/100\n",
            "469/469 [==============================] - 3s 5ms/step - loss: 0.0936 - val_loss: 0.0937\n",
            "Epoch 70/100\n",
            "469/469 [==============================] - 3s 5ms/step - loss: 0.0934 - val_loss: 0.0937\n",
            "Epoch 71/100\n",
            "469/469 [==============================] - 3s 5ms/step - loss: 0.0936 - val_loss: 0.0936\n",
            "Epoch 72/100\n",
            "469/469 [==============================] - 3s 5ms/step - loss: 0.0934 - val_loss: 0.0936\n",
            "Epoch 73/100\n",
            "469/469 [==============================] - 3s 5ms/step - loss: 0.0936 - val_loss: 0.0936\n",
            "Epoch 74/100\n",
            "469/469 [==============================] - 3s 5ms/step - loss: 0.0933 - val_loss: 0.0936\n",
            "Epoch 75/100\n",
            "469/469 [==============================] - 3s 5ms/step - loss: 0.0934 - val_loss: 0.0936\n",
            "Epoch 76/100\n",
            "469/469 [==============================] - 3s 5ms/step - loss: 0.0935 - val_loss: 0.0935\n",
            "Epoch 77/100\n",
            "469/469 [==============================] - 3s 5ms/step - loss: 0.0934 - val_loss: 0.0935\n",
            "Epoch 78/100\n",
            "469/469 [==============================] - 3s 6ms/step - loss: 0.0934 - val_loss: 0.0935\n",
            "Epoch 79/100\n",
            "469/469 [==============================] - 3s 5ms/step - loss: 0.0933 - val_loss: 0.0937\n",
            "Epoch 80/100\n",
            "469/469 [==============================] - 3s 5ms/step - loss: 0.0934 - val_loss: 0.0935\n",
            "Epoch 81/100\n",
            "469/469 [==============================] - 3s 5ms/step - loss: 0.0934 - val_loss: 0.0934\n",
            "Epoch 82/100\n",
            "469/469 [==============================] - 3s 5ms/step - loss: 0.0933 - val_loss: 0.0936\n",
            "Epoch 83/100\n",
            "469/469 [==============================] - 3s 5ms/step - loss: 0.0935 - val_loss: 0.0934\n",
            "Epoch 84/100\n",
            "469/469 [==============================] - 3s 5ms/step - loss: 0.0932 - val_loss: 0.0937\n",
            "Epoch 85/100\n",
            "469/469 [==============================] - 3s 5ms/step - loss: 0.0933 - val_loss: 0.0934\n",
            "Epoch 86/100\n",
            "469/469 [==============================] - 3s 5ms/step - loss: 0.0935 - val_loss: 0.0935\n",
            "Epoch 87/100\n",
            "469/469 [==============================] - 3s 5ms/step - loss: 0.0935 - val_loss: 0.0936\n",
            "Epoch 88/100\n",
            "469/469 [==============================] - 3s 5ms/step - loss: 0.0936 - val_loss: 0.0934\n",
            "Epoch 89/100\n",
            "469/469 [==============================] - 3s 5ms/step - loss: 0.0933 - val_loss: 0.0934\n",
            "Epoch 90/100\n",
            "469/469 [==============================] - 3s 5ms/step - loss: 0.0935 - val_loss: 0.0937\n",
            "Epoch 91/100\n",
            "469/469 [==============================] - 3s 5ms/step - loss: 0.0933 - val_loss: 0.0936\n",
            "Epoch 92/100\n",
            "469/469 [==============================] - 3s 5ms/step - loss: 0.0933 - val_loss: 0.0933\n",
            "Epoch 93/100\n",
            "469/469 [==============================] - 3s 5ms/step - loss: 0.0932 - val_loss: 0.0937\n",
            "Epoch 94/100\n",
            "469/469 [==============================] - 3s 6ms/step - loss: 0.0933 - val_loss: 0.0933\n",
            "Epoch 95/100\n",
            "469/469 [==============================] - 3s 6ms/step - loss: 0.0933 - val_loss: 0.0933\n",
            "Epoch 96/100\n",
            "469/469 [==============================] - 3s 6ms/step - loss: 0.0933 - val_loss: 0.0933\n",
            "Epoch 97/100\n",
            "469/469 [==============================] - 3s 6ms/step - loss: 0.0933 - val_loss: 0.0933\n",
            "Epoch 98/100\n",
            "469/469 [==============================] - 3s 6ms/step - loss: 0.0931 - val_loss: 0.0933\n",
            "Epoch 99/100\n",
            "469/469 [==============================] - 3s 6ms/step - loss: 0.0933 - val_loss: 0.0935\n",
            "Epoch 100/100\n",
            "469/469 [==============================] - 3s 5ms/step - loss: 0.0931 - val_loss: 0.0936\n"
          ],
          "name": "stdout"
        },
        {
          "output_type": "execute_result",
          "data": {
            "text/plain": [
              "<tensorflow.python.keras.callbacks.History at 0x7f643141e6a0>"
            ]
          },
          "metadata": {
            "tags": []
          },
          "execution_count": 13
        }
      ]
    },
    {
      "cell_type": "code",
      "metadata": {
        "colab": {
          "base_uri": "https://localhost:8080/"
        },
        "id": "yOi0rDLOG6fp",
        "outputId": "4f73f596-1957-4440-e71c-69746ff1010f"
      },
      "source": [
        "x_test_noisy[1].shape"
      ],
      "execution_count": null,
      "outputs": [
        {
          "output_type": "execute_result",
          "data": {
            "text/plain": [
              "(28, 28, 1)"
            ]
          },
          "metadata": {
            "tags": []
          },
          "execution_count": 7
        }
      ]
    },
    {
      "cell_type": "code",
      "metadata": {
        "id": "Z2Xz2zLJGtRw",
        "colab": {
          "base_uri": "https://localhost:8080/"
        },
        "outputId": "9756da02-eb60-414f-83c6-a6ab23d4adc7"
      },
      "source": [
        "decoded_imgs = autoencoder.predict(x_test_noisy[1])"
      ],
      "execution_count": null,
      "outputs": [
        {
          "output_type": "stream",
          "text": [
            "WARNING:tensorflow:Model was constructed with shape (None, 28, 28, 1) for input KerasTensor(type_spec=TensorSpec(shape=(None, 28, 28, 1), dtype=tf.float32, name='input_1'), name='input_1', description=\"created by layer 'input_1'\"), but it was called on an input with incompatible shape (None, 28, 1, 1).\n"
          ],
          "name": "stdout"
        }
      ]
    },
    {
      "cell_type": "code",
      "metadata": {
        "colab": {
          "base_uri": "https://localhost:8080/",
          "height": 248
        },
        "id": "AfkLnMFbHkzI",
        "outputId": "ae7523b8-df5b-425e-e615-cab8d40d3131"
      },
      "source": [
        "decoded_imgs = autoencoder.predict(x_test_noisy)\r\n",
        "\r\n",
        "n = 10\r\n",
        "plt.figure(figsize=(20, 4))\r\n",
        "for i in range(1, n + 1):\r\n",
        "    # Display original\r\n",
        "    ax = plt.subplot(2, n, i)\r\n",
        "    plt.imshow(x_test_noisy[i].reshape(28, 28))\r\n",
        "    plt.gray()\r\n",
        "    ax.get_xaxis().set_visible(False)\r\n",
        "    ax.get_yaxis().set_visible(False)\r\n",
        "\r\n",
        "    # Display reconstruction\r\n",
        "    ax = plt.subplot(2, n, i + n)\r\n",
        "    plt.imshow(decoded_imgs[i].reshape(28, 28))\r\n",
        "    plt.gray()\r\n",
        "    ax.get_xaxis().set_visible(False)\r\n",
        "    ax.get_yaxis().set_visible(False)\r\n",
        "plt.show()\r\n"
      ],
      "execution_count": null,
      "outputs": [
        {
          "output_type": "display_data",
          "data": {
            "image/png": "[encoded data removed]",
            "text/plain": [
              "<Figure size 1440x288 with 20 Axes>"
            ]
          },
          "metadata": {
            "tags": [],
            "needs_background": "light"
          }
        }
      ]
    },
    {
      "cell_type": "code",
      "metadata": {
        "colab": {
          "base_uri": "https://localhost:8080/",
          "height": 129
        },
        "id": "C8cFwxTZGdli",
        "outputId": "bb168ddd-d361-46a8-c6b6-e502e1aa7011"
      },
      "source": [
        "n = 10\r\n",
        "plt.figure(figsize=(20, 2))\r\n",
        "for i in range(1, n + 1):\r\n",
        "    ax = plt.subplot(1, n, i)\r\n",
        "    plt.imshow(x_test_noisy[i].reshape(28, 28))\r\n",
        "    plt.gray()\r\n",
        "    ax.get_xaxis().set_visible(False)\r\n",
        "    ax.get_yaxis().set_visible(False)\r\n",
        "plt.show()"
      ],
      "execution_count": null,
      "outputs": [
        {
          "output_type": "display_data",
          "data": {
            "image/png": "[encoded data removed]",
            "text/plain": [
              "<Figure size 1440x144 with 10 Axes>"
            ]
          },
          "metadata": {
            "tags": [],
            "needs_background": "light"
          }
        }
      ]
    }
  ]
}